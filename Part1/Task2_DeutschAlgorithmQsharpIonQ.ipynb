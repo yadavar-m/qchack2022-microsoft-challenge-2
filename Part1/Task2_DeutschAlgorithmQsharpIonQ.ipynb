{
  "cells": [
    {
      "cell_type": "markdown",
      "source": [
        "# Task 2: Run Deutsch Algorithm on IonQ Simulator\n",
        "\n",
        "*In this task, you are already given all the code you’ll need! You need to set up the Azure Quantum connection information and use it to run this code on the IonQ simulator target.*\n",
        "\n",
        "*To submit this task, update this notebook with the saved results of code cells execution and commit it in your challenge repository.*\n",
        "\n",
        "*This notebook is part IV of the [Exploring Deutsch-Jozsa Algorithm tutorial](https://github.com/microsoft/QuantumKatas/blob/main/tutorials/ExploringDeutschJozsaAlgorithm/AQ/DeutschJozsaAlgorithmTutorial_P4.ipynb) in the Quantum Katas.*"
      ],
      "metadata": {}
    },
    {
      "cell_type": "markdown",
      "source": [
        "## Define operations\n",
        "\n",
        "To start with, we'll define the operations that implement the oracles and the algorithms again; Q# notebooks can use operations defined in them or in .qs files in the same folder, but not in other notebooks."
      ],
      "metadata": {}
    },
    {
      "cell_type": "code",
      "source": [
        "// Phase oracles we'll use to demonstrate Deutsch algorithm\n",
        "operation PhaseOracle_Zero (x : Qubit) : Unit {\n",
        "    // Do nothing...\n",
        "}\n",
        "\n",
        "operation PhaseOracle_X (x : Qubit) : Unit {\n",
        "    Z(x);\n",
        "}\n",
        "\n",
        "operation DeutschAlgorithm (oracle : (Qubit => Unit)) : Result {\n",
        "    use x = Qubit();\n",
        "    H(x);\n",
        "    oracle(x);\n",
        "    H(x);\n",
        "    return M(x);\n",
        "}"
      ],
      "outputs": [
        {
          "output_type": "execute_result",
          "execution_count": 17,
          "data": {
            "text/plain": "PhaseOracle_Zero, PhaseOracle_X, DeutschAlgorithm",
            "text/html": "<ul><li>PhaseOracle_Zero</li><li>PhaseOracle_X</li><li>DeutschAlgorithm</li></ul>",
            "application/x-qsharp-data": "[\"PhaseOracle_Zero\",\"PhaseOracle_X\",\"DeutschAlgorithm\"]"
          },
          "metadata": {}
        }
      ],
      "execution_count": 17,
      "metadata": {}
    },
    {
      "cell_type": "markdown",
      "source": [
        "Note that we've modified the signature of the operation that implements Deutsch algorithm to return `Result` instead of `Bool`; `Zero` indicates a constant function and `One` - a balanced function. We'll see why we needed this change once we get to running the algorithm on hardware!\n",
        "\n",
        "After this, we need to define the wrapper operation that will call the Deutsch algorithm with the right oracle parameter depending on a string parameter.\n",
        "Q# notebooks allow to pass parameters of different types to operations executed via magics, but they cannot pass callables as parameters."
      ],
      "metadata": {}
    },
    {
      "cell_type": "code",
      "source": [
        "operation DeutschAlgorithmWrapper (oracleFunction : String) : Result {\n",
        "    Message($\"Running Deutsch algorithm for f(x) = {oracleFunction}\");\n",
        "    if oracleFunction == \"0\" {\n",
        "        return DeutschAlgorithm(PhaseOracle_Zero);\n",
        "    } elif oracleFunction == \"x\" {\n",
        "        return DeutschAlgorithm(PhaseOracle_X);\n",
        "    } else {\n",
        "        fail $\"Unknown function f(x) = {oracleFunction}\";\n",
        "    }\n",
        "}"
      ],
      "outputs": [
        {
          "output_type": "execute_result",
          "execution_count": 18,
          "data": {
            "text/plain": "DeutschAlgorithmWrapper",
            "text/html": "<ul><li>DeutschAlgorithmWrapper</li></ul>",
            "application/x-qsharp-data": "[\"DeutschAlgorithmWrapper\"]"
          },
          "metadata": {}
        }
      ],
      "execution_count": 18,
      "metadata": {}
    },
    {
      "cell_type": "markdown",
      "source": [
        "Let's run the algorithm on a simulator like we did before, to make sure we didn't introduce any unexpected behaviors (think of it as unit tests for your code!)"
      ],
      "metadata": {}
    },
    {
      "cell_type": "code",
      "source": [
        "%simulate DeutschAlgorithmWrapper oracleFunction=0"
      ],
      "outputs": [
        {
          "output_type": "stream",
          "name": "stdout",
          "text": "Running Deutsch algorithm for f(x) = 0\n"
        },
        {
          "output_type": "execute_result",
          "execution_count": 19,
          "data": {
            "text/plain": "Zero",
            "application/x-qsharp-data": "0"
          },
          "metadata": {}
        }
      ],
      "execution_count": 19,
      "metadata": {
        "scrolled": false
      }
    },
    {
      "cell_type": "code",
      "source": [
        "%simulate DeutschAlgorithmWrapper oracleFunction=x"
      ],
      "outputs": [
        {
          "output_type": "stream",
          "name": "stdout",
          "text": "Running Deutsch algorithm for f(x) = x\n"
        },
        {
          "output_type": "execute_result",
          "execution_count": 20,
          "data": {
            "text/plain": "One",
            "application/x-qsharp-data": "1"
          },
          "metadata": {}
        }
      ],
      "execution_count": 20,
      "metadata": {
        "scrolled": false
      }
    },
    {
      "cell_type": "markdown",
      "source": [
        "## Connect to Azure Quantum\n",
        "\n",
        "You need to substitute `<subscriptionId>`, `<resourceGroupId>`, `<workspaceId>`, and `<location>` in the connection string below with the parameter values from your own quantum workspace.\n",
        "You can learn how to create an Azure Quantum workspace in [this Microsoft Learn module](https://docs.microsoft.com/learn/modules/get-started-azure-quantum/3-create-quantum-workspace).\n",
        "(Executing this cell will open a new tab with a login prompt; return to the notebook once you log in.)"
      ],
      "metadata": {}
    },
    {
      "cell_type": "code",
      "source": [
        "%azure.connect \"/subscriptions/b0c3bbe3-7123-4ba4-9aa2-57d9845f4a1d/resourceGroups/AzureQuantum/providers/Microsoft.Quantum/Workspaces/qchack-2022-b\" location=\"eastus\""
      ],
      "outputs": [
        {
          "output_type": "stream",
          "name": "stdout",
          "text": "Authenticated using Microsoft.Azure.Quantum.Authentication.TokenFileCredential\n\n\nConnected to Azure Quantum workspace qchack-2022-b in location eastus.\n"
        },
        {
          "output_type": "execute_result",
          "execution_count": 30,
          "data": {
            "text/plain": "Target ID                   Current Availability Average Queue Time (Seconds)\n--------------------------- ----------- --\nionq.qpu                    Available   45\nionq.simulator              Available   2\nquantinuum.hqs-lt-s1        Unavailable 0\nquantinuum.hqs-lt-s1-apival Available   0\nquantinuum.hqs-lt-s2        Unavailable 0\nquantinuum.hqs-lt-s2-apival Available   0\nquantinuum.hqs-lt-s1-sim    Available   68\nquantinuum.hqs-lt-s2-sim    Available   72\nquantinuum.hqs-lt           Unavailable 0\n",
            "text/html": "<table><thead><tr><th style=\"text-align: start;\">Target ID</th><th style=\"text-align: start;\">Current Availability</th><th style=\"text-align: start;\">Average Queue Time (Seconds)</th></tr></thead><tbody><tr><td style=\"text-align: start;\">ionq.qpu</td><td style=\"text-align: start;\">Available</td><td style=\"text-align: start;\">45</td></tr><tr><td style=\"text-align: start;\">ionq.simulator</td><td style=\"text-align: start;\">Available</td><td style=\"text-align: start;\">2</td></tr><tr><td style=\"text-align: start;\">quantinuum.hqs-lt-s1</td><td style=\"text-align: start;\">Unavailable</td><td style=\"text-align: start;\">0</td></tr><tr><td style=\"text-align: start;\">quantinuum.hqs-lt-s1-apival</td><td style=\"text-align: start;\">Available</td><td style=\"text-align: start;\">0</td></tr><tr><td style=\"text-align: start;\">quantinuum.hqs-lt-s2</td><td style=\"text-align: start;\">Unavailable</td><td style=\"text-align: start;\">0</td></tr><tr><td style=\"text-align: start;\">quantinuum.hqs-lt-s2-apival</td><td style=\"text-align: start;\">Available</td><td style=\"text-align: start;\">0</td></tr><tr><td style=\"text-align: start;\">quantinuum.hqs-lt-s1-sim</td><td style=\"text-align: start;\">Available</td><td style=\"text-align: start;\">68</td></tr><tr><td style=\"text-align: start;\">quantinuum.hqs-lt-s2-sim</td><td style=\"text-align: start;\">Available</td><td style=\"text-align: start;\">72</td></tr><tr><td style=\"text-align: start;\">quantinuum.hqs-lt</td><td style=\"text-align: start;\">Unavailable</td><td style=\"text-align: start;\">0</td></tr></tbody></table>",
            "application/x-qsharp-data": "[{\"id\":\"ionq.qpu\",\"current_availability\":{},\"average_queue_time\":45},{\"id\":\"ionq.simulator\",\"current_availability\":{},\"average_queue_time\":2},{\"id\":\"quantinuum.hqs-lt-s1\",\"current_availability\":{},\"average_queue_time\":0},{\"id\":\"quantinuum.hqs-lt-s1-apival\",\"current_availability\":{},\"average_queue_time\":0},{\"id\":\"quantinuum.hqs-lt-s2\",\"current_availability\":{},\"average_queue_time\":0},{\"id\":\"quantinuum.hqs-lt-s2-apival\",\"current_availability\":{},\"average_queue_time\":0},{\"id\":\"quantinuum.hqs-lt-s1-sim\",\"current_availability\":{},\"average_queue_time\":68},{\"id\":\"quantinuum.hqs-lt-s2-sim\",\"current_availability\":{},\"average_queue_time\":72},{\"id\":\"quantinuum.hqs-lt\",\"current_availability\":{},\"average_queue_time\":0}]"
          },
          "metadata": {}
        }
      ],
      "execution_count": 30,
      "metadata": {
        "tags": [
          "azure_quantum"
        ]
      }
    },
    {
      "cell_type": "markdown",
      "source": [
        "The `%azure.connect` magic outputs the list of targets available in your subscription. \n",
        "If you added IonQ as the provider to your workspace, you'll get `ionq.simulator` (the classical simulator of a quantum device) and `ionq.qpu` (the actual quantum device).\n",
        "Let's submit a job for the simulator first; we'll need to choose the target using the `%azure.target` magic command."
      ],
      "metadata": {}
    },
    {
      "cell_type": "code",
      "source": [
        "%azure.target ionq.simulator"
      ],
      "outputs": [
        {
          "output_type": "stream",
          "name": "stdout",
          "text": "Loading package Microsoft.Quantum.Providers.IonQ and dependencies...\nActive target is now ionq.simulator\n"
        },
        {
          "output_type": "execute_result",
          "execution_count": 31,
          "data": {
            "text/plain": "Target ID      Current Availability Average Queue Time (Seconds)\n-------------- --------- -\nionq.simulator Available 2\n",
            "text/html": "<table><thead><tr><th style=\"text-align: start;\">Target ID</th><th style=\"text-align: start;\">Current Availability</th><th style=\"text-align: start;\">Average Queue Time (Seconds)</th></tr></thead><tbody><tr><td style=\"text-align: start;\">ionq.simulator</td><td style=\"text-align: start;\">Available</td><td style=\"text-align: start;\">2</td></tr></tbody></table>",
            "application/x-qsharp-data": "{\"id\":\"ionq.simulator\",\"current_availability\":{},\"average_queue_time\":2}"
          },
          "metadata": {}
        }
      ],
      "execution_count": 31,
      "metadata": {
        "scrolled": true,
        "tags": [
          "azure_quantum"
        ]
      }
    },
    {
      "cell_type": "markdown",
      "source": [
        "Now, you can submit a job to the current target using the `%azure.submit` magic command which takes the same parameters as the `%simulate` magic command used earlier.\n",
        "\n",
        "When you run this cell, you'll get a job id in return. You'll use this id for looking up the job status, either via the `%azure.status` command or via Azure Portal, and for retrieving job results."
      ],
      "metadata": {}
    },
    {
      "cell_type": "code",
      "source": [
        "%azure.submit DeutschAlgorithmWrapper oracleFunction=0"
      ],
      "outputs": [
        {
          "output_type": "stream",
          "name": "stdout",
          "text": "Submitting DeutschAlgorithmWrapper to target ionq.simulator...\nJob successfully submitted for 500 shots.\n   Job name: DeutschAlgorithmWrapper\n   Job ID: 407c0041-98c2-4cd0-bc40-d477eb69c8bb\n"
        },
        {
          "output_type": "execute_result",
          "execution_count": 32,
          "data": {
            "text/plain": "Job Name                Job ID                                                                                                                                                                                                                                                                                                                                                 Job Status Target         Creation Time              Begin Execution Time End Execution Time Cost Estimate\n----------------------- ------------------------------------------------------------------------------------------------------------------------------------------------------------------------------------------------------------------------------------------------------------------------------------------------------------------------------------------------------ ------- -------------- --------------------------\nDeutschAlgorithmWrapper <a href=\"https://portal.azure.com/#@microsoft.onmicrosoft.com/resource/subscriptions/b0c3bbe3-7123-4ba4-9aa2-57d9845f4a1d/resourceGroups/AzureQuantum/providers/Microsoft.Quantum/Workspaces/qchack-2022-b/job_management?microsoft_azure_quantum_jobid=407c0041-98c2-4cd0-bc40-d477eb69c8bb\" target=\"_blank\">407c0041-98c2-4cd0-bc40-d477eb69c8bb</a> Waiting ionq.simulator 04/09/2022 19:42:25 +00:00\n",
            "text/html": "<table><thead><tr><th style=\"text-align: start;\">Job Name</th><th style=\"text-align: start;\">Job ID</th><th style=\"text-align: start;\">Job Status</th><th style=\"text-align: start;\">Target</th><th style=\"text-align: start;\">Creation Time</th><th style=\"text-align: start;\">Begin Execution Time</th><th style=\"text-align: start;\">End Execution Time</th><th style=\"text-align: start;\">Cost Estimate</th></tr></thead><tbody><tr><td style=\"text-align: start;\">DeutschAlgorithmWrapper</td><td style=\"text-align: start;\"><a href=\"https://portal.azure.com/#@microsoft.onmicrosoft.com/resource/subscriptions/b0c3bbe3-7123-4ba4-9aa2-57d9845f4a1d/resourceGroups/AzureQuantum/providers/Microsoft.Quantum/Workspaces/qchack-2022-b/job_management?microsoft_azure_quantum_jobid=407c0041-98c2-4cd0-bc40-d477eb69c8bb\" target=\"_blank\">407c0041-98c2-4cd0-bc40-d477eb69c8bb</a></td><td style=\"text-align: start;\">Waiting</td><td style=\"text-align: start;\">ionq.simulator</td><td style=\"text-align: start;\">04/09/2022 19:42:25 +00:00</td><td style=\"text-align: start;\"></td><td style=\"text-align: start;\"></td><td style=\"text-align: start;\"></td></tr></tbody></table>",
            "application/x-qsharp-data": "{\"id\":\"407c0041-98c2-4cd0-bc40-d477eb69c8bb\",\"name\":\"DeutschAlgorithmWrapper\",\"status\":\"Waiting\",\"uri\":\"https://portal.azure.com/#@microsoft.onmicrosoft.com/resource/subscriptions/b0c3bbe3-7123-4ba4-9aa2-57d9845f4a1d/resourceGroups/AzureQuantum/providers/Microsoft.Quantum/Workspaces/qchack-2022-b/job_management?microsoft_azure_quantum_jobid=407c0041-98c2-4cd0-bc40-d477eb69c8bb\",\"provider\":\"ionq\",\"target\":\"ionq.simulator\",\"creation_time\":\"2022-04-09T19:42:25.6574385+00:00\",\"begin_execution_time\":null,\"end_execution_time\":null,\"cost_estimate\":\"\"}"
          },
          "metadata": {}
        }
      ],
      "execution_count": 32,
      "metadata": {
        "scrolled": false,
        "tags": [
          "azure_quantum"
        ]
      }
    },
    {
      "cell_type": "markdown",
      "source": [
        "Running `%azure.status` without any arguments will fetch the status of the latest job executed in this notebook; if you need to look up an earlier job, you can use its id as a parameter."
      ],
      "metadata": {}
    },
    {
      "cell_type": "code",
      "source": [
        "%azure.status"
      ],
      "outputs": [
        {
          "output_type": "execute_result",
          "execution_count": 37,
          "data": {
            "text/plain": "Job Name                Job ID                                                                                                                                                                                                                                                                                                                                                 Job Status Target         Creation Time              Begin Execution Time       End Execution Time         Cost Estimate\n----------------------- ------------------------------------------------------------------------------------------------------------------------------------------------------------------------------------------------------------------------------------------------------------------------------------------------------------------------------------------------------ --------- -------------- -------------------------- -------------------------- -------------------------- -----\nDeutschAlgorithmWrapper <a href=\"https://portal.azure.com/#@microsoft.onmicrosoft.com/resource/subscriptions/b0c3bbe3-7123-4ba4-9aa2-57d9845f4a1d/resourceGroups/AzureQuantum/providers/Microsoft.Quantum/Workspaces/qchack-2022-b/job_management?microsoft_azure_quantum_jobid=407c0041-98c2-4cd0-bc40-d477eb69c8bb\" target=\"_blank\">407c0041-98c2-4cd0-bc40-d477eb69c8bb</a> Succeeded ionq.simulator 04/09/2022 19:42:25 +00:00 04/09/2022 19:43:00 +00:00 04/09/2022 19:43:00 +00:00 $0.00\n",
            "text/html": "<table><thead><tr><th style=\"text-align: start;\">Job Name</th><th style=\"text-align: start;\">Job ID</th><th style=\"text-align: start;\">Job Status</th><th style=\"text-align: start;\">Target</th><th style=\"text-align: start;\">Creation Time</th><th style=\"text-align: start;\">Begin Execution Time</th><th style=\"text-align: start;\">End Execution Time</th><th style=\"text-align: start;\">Cost Estimate</th></tr></thead><tbody><tr><td style=\"text-align: start;\">DeutschAlgorithmWrapper</td><td style=\"text-align: start;\"><a href=\"https://portal.azure.com/#@microsoft.onmicrosoft.com/resource/subscriptions/b0c3bbe3-7123-4ba4-9aa2-57d9845f4a1d/resourceGroups/AzureQuantum/providers/Microsoft.Quantum/Workspaces/qchack-2022-b/job_management?microsoft_azure_quantum_jobid=407c0041-98c2-4cd0-bc40-d477eb69c8bb\" target=\"_blank\">407c0041-98c2-4cd0-bc40-d477eb69c8bb</a></td><td style=\"text-align: start;\">Succeeded</td><td style=\"text-align: start;\">ionq.simulator</td><td style=\"text-align: start;\">04/09/2022 19:42:25 +00:00</td><td style=\"text-align: start;\">04/09/2022 19:43:00 +00:00</td><td style=\"text-align: start;\">04/09/2022 19:43:00 +00:00</td><td style=\"text-align: start;\">$0.00</td></tr></tbody></table>",
            "application/x-qsharp-data": "{\"id\":\"407c0041-98c2-4cd0-bc40-d477eb69c8bb\",\"name\":\"DeutschAlgorithmWrapper\",\"status\":\"Succeeded\",\"uri\":\"https://portal.azure.com/#@microsoft.onmicrosoft.com/resource/subscriptions/b0c3bbe3-7123-4ba4-9aa2-57d9845f4a1d/resourceGroups/AzureQuantum/providers/Microsoft.Quantum/Workspaces/qchack-2022-b/job_management?microsoft_azure_quantum_jobid=407c0041-98c2-4cd0-bc40-d477eb69c8bb\",\"provider\":\"ionq\",\"target\":\"ionq.simulator\",\"creation_time\":\"2022-04-09T19:42:25.6574385+00:00\",\"begin_execution_time\":\"2022-04-09T19:43:00.075+00:00\",\"end_execution_time\":\"2022-04-09T19:43:00.104+00:00\",\"cost_estimate\":\"$0.00\"}"
          },
          "metadata": {}
        }
      ],
      "execution_count": 37,
      "metadata": {
        "scrolled": false,
        "tags": [
          "azure_quantum"
        ]
      }
    },
    {
      "cell_type": "markdown",
      "source": [
        "Similarly, running `%azure.output` without any arguments will fetch the results of the latest job executed in this notebook; if you need to look up an earlier job, you can use its id as a parameter."
      ],
      "metadata": {}
    },
    {
      "cell_type": "code",
      "source": [
        "%azure.output"
      ],
      "outputs": [
        {
          "output_type": "execute_result",
          "execution_count": 38,
          "data": {
            "text/plain": "Result Frequency\n- -\n0 1\n",
            "text/html": "\r\n                    <table style=\"table-layout: fixed; width: 100%\">\r\n                        <thead>\r\n                            <tr>\r\n                                <th style=\"text-align: left; width: 25ch\">Result</th>\r\n                                <th style=\"text-align: left; width: 25ch\">Frequency</th>\r\n                                <th style=\"text-align: left; width: calc(100% - 25ch - 25ch)\">Histogram</th>\r\n                            </tr>\r\n                        </thead>\r\n                        <tbody>\r\n                            \r\n                            <tr>\r\n                                <td style=\"text-align: left; width: 25ch\">0</td>\r\n                                <td style=\"text-align: left; width: 25ch\">1</td>\r\n                                <td style=\"text-align: left; width: calc(100% - 25ch - 25ch)\">\r\n                                    <progress\r\n                                        max=\"100\"\r\n                                        value=\"100\"\r\n                                        style=\"width: 100%;\"\r\n                                    >\r\n                                </td>\r\n                            </tr>\r\n                        \r\n                        </tbody>\r\n                    </table>\r\n                ",
            "application/x-qsharp-data": "{\"0\":1.0}"
          },
          "metadata": {}
        }
      ],
      "execution_count": 38,
      "metadata": {
        "tags": [
          "azure_quantum"
        ]
      }
    },
    {
      "cell_type": "markdown",
      "source": [
        "The format of job execution results differs from the results produced by the local simulator; instead of a single run result, you get a histogram of results of multiple job runs (\"shots\").\n",
        "In this case, though, the job we run produces a deterministic result, and in the absence of noise the histogram consists of a single entry.\n",
        "If you run the same job on quantum hardware without error correction, or on a noisy simulator, you'll get a distribution of multiple results, and will need to analyze the data to figure out the right answer."
      ],
      "metadata": {}
    }
  ],
  "metadata": {
    "kernelspec": {
      "name": "python3",
      "language": "python",
      "display_name": "Python 3 (ipykernel)"
    },
    "language_info": {
      "name": "qsharp",
      "version": "0.14",
      "mimetype": "text/x-qsharp",
      "file_extension": ".qs"
    },
    "kernel_info": {
      "name": "python3"
    },
    "nteract": {
      "version": "nteract-front-end@1.0.0"
    }
  },
  "nbformat": 4,
  "nbformat_minor": 2
}