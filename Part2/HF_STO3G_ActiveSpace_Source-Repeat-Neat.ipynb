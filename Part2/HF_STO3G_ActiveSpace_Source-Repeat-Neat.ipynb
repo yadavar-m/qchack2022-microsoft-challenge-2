{
 "cells": [
  {
   "cell_type": "code",
   "execution_count": 1,
   "metadata": {},
   "outputs": [
    {
     "data": {
      "text/plain": [
       "'/mnt/c/Users/ragha/QCHack2022/MSChall_Part2/IBM_INTERN_CODES'"
      ]
     },
     "execution_count": 1,
     "metadata": {},
     "output_type": "execute_result"
    }
   ],
   "source": [
    "pwd"
   ]
  },
  {
   "cell_type": "code",
   "execution_count": 2,
   "metadata": {},
   "outputs": [
    {
     "name": "stdout",
     "output_type": "stream",
     "text": [
      "Sun Apr 10 03:20:13 IST 2022\r\n"
     ]
    }
   ],
   "source": [
    "!date"
   ]
  },
  {
   "cell_type": "markdown",
   "metadata": {},
   "source": [
    "### No. of Qubits using Qiskit Nature"
   ]
  },
  {
   "cell_type": "code",
   "execution_count": 3,
   "metadata": {},
   "outputs": [],
   "source": [
    "from qiskit import BasicAer, Aer\n",
    "from qiskit.algorithms.optimizers import SPSA, COBYLA, SLSQP\n",
    "from qiskit_nature.mappers.second_quantization import BravyiKitaevMapper\n",
    "from qiskit_nature.drivers import UnitsType, Molecule\n",
    "from qiskit_nature.drivers.second_quantization import PySCFDriver\n",
    "from qiskit_nature.converters.second_quantization import QubitConverter\n",
    "from qiskit_nature.algorithms import GroundStateEigensolver\n",
    "from qiskit_nature.algorithms import VQEUCCFactory\n",
    "from qiskit_nature.problems.second_quantization import ElectronicStructureProblem\n",
    "from qiskit_nature.transformers.second_quantization.electronic import FreezeCoreTransformer\n",
    "from qiskit.utils import QuantumInstance\n",
    "import time"
   ]
  },
  {
   "cell_type": "code",
   "execution_count": 4,
   "metadata": {},
   "outputs": [],
   "source": [
    "driver = PySCFDriver(atom='H 0.0, 0.0, 0.0; F 0.0, 0.0,  0.9554',\n",
    "                     unit=UnitsType.ANGSTROM, charge=0, spin=0, basis='STO3G')\n",
    "qubit_conversion = QubitConverter(BravyiKitaevMapper())\n",
    "#experiment = ElectronicStructureProblem(driver)"
   ]
  },
  {
   "cell_type": "markdown",
   "metadata": {},
   "source": [
    "### Calculation using Qiskit Nature without Active Space"
   ]
  },
  {
   "cell_type": "code",
   "execution_count": 5,
   "metadata": {},
   "outputs": [
    {
     "name": "stdout",
     "output_type": "stream",
     "text": [
      "12\n",
      "CPU times: user 6.94 s, sys: 496 ms, total: 7.44 s\n",
      "Wall time: 1.77 s\n"
     ]
    }
   ],
   "source": [
    "%%time\n",
    "problem_no_activespace = ElectronicStructureProblem(driver)\n",
    "second_q_ops = problem_no_activespace.second_q_ops()\n",
    "main_op = second_q_ops[0]\n",
    "# particle_number = problem.molecule_data_transformed\n",
    "# num_particles = (particle_number.num_alpha, particle_numbaer.num_beta)\n",
    "# num_spin_orbitals = particle_number.num_molecular_orbitals*2\n",
    "molecule = driver.run()\n",
    "backend = Aer.get_backend('qasm_simulator')\n",
    "simulation = QuantumInstance(backend=backend)\n",
    "mapper = BravyiKitaevMapper()\n",
    "converter = QubitConverter(mapper=mapper, two_qubit_reduction=True)\n",
    "qubit_op = converter.convert(main_op, num_particles=2)\n",
    "print(qubit_op.num_qubits)"
   ]
  },
  {
   "cell_type": "markdown",
   "metadata": {},
   "source": [
    "### Calculation using Qiskit Nature with \"Defined Active Space\""
   ]
  },
  {
   "cell_type": "markdown",
   "metadata": {},
   "source": [
    "### AE = 6, AO = 4 "
   ]
  },
  {
   "cell_type": "raw",
   "metadata": {},
   "source": [
    "1\t-25.9035\tOccupied\n",
    "2\t-1.45987\tOccupied\n",
    "3\t-0.57367\tOccupied AS Starts\n",
    "4\t-0.46312\tOccupied\n",
    "5\t-0.46312\tOccupied\n",
    "6\t0.58987\tUnoccupied AS Ends\n"
   ]
  },
  {
   "cell_type": "code",
   "execution_count": 6,
   "metadata": {},
   "outputs": [],
   "source": [
    "from qiskit_nature.transformers import ActiveSpaceTransformer\n",
    "from qiskit_nature.transformers.second_quantization.electronic import ActiveSpaceTransformer\n",
    "transformer = ActiveSpaceTransformer(6, 4, [2, 3, 4, 5])"
   ]
  },
  {
   "cell_type": "code",
   "execution_count": 7,
   "metadata": {},
   "outputs": [
    {
     "name": "stdout",
     "output_type": "stream",
     "text": [
      "8\n"
     ]
    }
   ],
   "source": [
    "#problem = ElectronicStructureProblem(driver)\n",
    "experiment_with_ActiveSpace = ElectronicStructureProblem(driver, transformers=[transformer])\n",
    "second_q_ops = experiment_with_ActiveSpace.second_q_ops()\n",
    "main_op = second_q_ops[0]\n",
    "# particle_number = problem.molecule_data_transformed\n",
    "# num_particles = (particle_number.num_alpha, particle_number.num_beta)\n",
    "# num_spin_orbitals = particle_number.num_molecular_orbitals*2\n",
    "molecule = driver.run()\n",
    "backend = Aer.get_backend('qasm_simulator')\n",
    "simulation = QuantumInstance(backend=backend)\n",
    "mapper = BravyiKitaevMapper()\n",
    "converter = QubitConverter(mapper=mapper, two_qubit_reduction=True)\n",
    "qubit_op = converter.convert(main_op, num_particles=2)\n",
    "print(qubit_op.num_qubits)"
   ]
  },
  {
   "cell_type": "code",
   "execution_count": 8,
   "metadata": {},
   "outputs": [],
   "source": [
    "experiment_with_ActiveSpace = ElectronicStructureProblem(driver, transformers=[transformer])\n",
    "backend = Aer.get_backend('qasm_simulator')\n",
    "simulation = QuantumInstance(backend=backend)"
   ]
  },
  {
   "cell_type": "code",
   "execution_count": 9,
   "metadata": {},
   "outputs": [
    {
     "name": "stdout",
     "output_type": "stream",
     "text": [
      "Total runtime of the program is 44.07190752029419\n"
     ]
    }
   ],
   "source": [
    "# import logging\n",
    "# logging.basicConfig(level=logging.WARNING)\n",
    "# logging.getLogger('qiskit.algorithms.minimum_eigen_solvers.vqe').setLevel(logging.INFO)\n",
    "\n",
    "\n",
    "shots=1\n",
    "\n",
    "begin = time.time()\n",
    "\n",
    "VQE = VQEUCCFactory(simulation, optimizer=COBYLA(maxiter=shots))\n",
    "calculation = GroundStateEigensolver(qubit_conversion, VQE)\n",
    "result = calculation.solve(experiment_with_ActiveSpace)\n",
    "\n",
    "end = time.time()\n",
    "print(f\"Total runtime of the program is {end - begin}\")"
   ]
  },
  {
   "cell_type": "code",
   "execution_count": 10,
   "metadata": {},
   "outputs": [
    {
     "name": "stdout",
     "output_type": "stream",
     "text": [
      "Energy: -98.5638792085056\n"
     ]
    }
   ],
   "source": [
    "import numpy as np\n",
    "print('Energy:', np.real(result.electronic_energies + result.nuclear_repulsion_energy)[0])"
   ]
  },
  {
   "cell_type": "markdown",
   "metadata": {},
   "source": [
    "### AE = 8, AO = 5"
   ]
  },
  {
   "cell_type": "raw",
   "metadata": {},
   "source": [
    "1\t-25.9035\tOccupied\n",
    "2\t-1.45987\tOccupied AS Starts\n",
    "3\t-0.57367\tOccupied \n",
    "4\t-0.46312\tOccupied\n",
    "5\t-0.46312\tOccupied\n",
    "6\t0.58987\tUnoccupied AS Ends\n"
   ]
  },
  {
   "cell_type": "code",
   "execution_count": 11,
   "metadata": {},
   "outputs": [],
   "source": [
    "from qiskit_nature.transformers import ActiveSpaceTransformer\n",
    "from qiskit_nature.transformers.second_quantization.electronic import ActiveSpaceTransformer\n",
    "transformer = ActiveSpaceTransformer(8, 5, [1, 2, 3, 4, 5])"
   ]
  },
  {
   "cell_type": "code",
   "execution_count": 12,
   "metadata": {},
   "outputs": [
    {
     "name": "stdout",
     "output_type": "stream",
     "text": [
      "10\n"
     ]
    }
   ],
   "source": [
    "#problem = ElectronicStructureProblem(driver)\n",
    "experiment_with_ActiveSpace = ElectronicStructureProblem(driver, transformers=[transformer])\n",
    "second_q_ops = experiment_with_ActiveSpace.second_q_ops()\n",
    "main_op = second_q_ops[0]\n",
    "# particle_number = problem.molecule_data_transformed\n",
    "# num_particles = (particle_number.num_alpha, particle_number.num_beta)\n",
    "# num_spin_orbitals = particle_number.num_molecular_orbitals*2\n",
    "molecule = driver.run()\n",
    "backend = Aer.get_backend('qasm_simulator')\n",
    "simulation = QuantumInstance(backend=backend)\n",
    "mapper = BravyiKitaevMapper()\n",
    "converter = QubitConverter(mapper=mapper, two_qubit_reduction=True)\n",
    "qubit_op = converter.convert(main_op, num_particles=2)\n",
    "print(qubit_op.num_qubits)"
   ]
  },
  {
   "cell_type": "code",
   "execution_count": 13,
   "metadata": {},
   "outputs": [],
   "source": [
    "experiment_with_ActiveSpace = ElectronicStructureProblem(driver, transformers=[transformer])\n",
    "backend = Aer.get_backend('qasm_simulator')\n",
    "simulation = QuantumInstance(backend=backend)"
   ]
  },
  {
   "cell_type": "code",
   "execution_count": null,
   "metadata": {},
   "outputs": [],
   "source": [
    "%%time\n",
    "# import logging\n",
    "# logging.basicConfig(level=logging.WARNING)\n",
    "# logging.getLogger('qiskit.algorithms.minimum_eigen_solvers.vqe').setLevel(logging.INFO)\n",
    "\n",
    "\n",
    "shots=1\n",
    "\n",
    "begin = time.time()\n",
    "\n",
    "VQE = VQEUCCFactory(simulation, optimizer=COBYLA(maxiter=shots))\n",
    "calculation = GroundStateEigensolver(qubit_conversion, VQE)\n",
    "result = calculation.solve(experiment_with_ActiveSpace)\n",
    "\n",
    "end = time.time()\n",
    "print(f\"Total runtime of the program is {end - begin}\")"
   ]
  },
  {
   "cell_type": "code",
   "execution_count": null,
   "metadata": {},
   "outputs": [],
   "source": [
    "import numpy as np\n",
    "print('Energy:', np.real(result.electronic_energies + result.nuclear_repulsion_energy)[0])"
   ]
  },
  {
   "cell_type": "code",
   "execution_count": null,
   "metadata": {},
   "outputs": [],
   "source": []
  },
  {
   "cell_type": "markdown",
   "metadata": {},
   "source": [
    "### AE = 10, AO = 6"
   ]
  },
  {
   "cell_type": "code",
   "execution_count": null,
   "metadata": {},
   "outputs": [],
   "source": [
    "from qiskit_nature.transformers import ActiveSpaceTransformer\n",
    "from qiskit_nature.transformers.second_quantization.electronic import ActiveSpaceTransformer\n",
    "transformer = ActiveSpaceTransformer(10, 6, [0, 1, 2, 3, 4, 5])"
   ]
  },
  {
   "cell_type": "code",
   "execution_count": null,
   "metadata": {},
   "outputs": [],
   "source": [
    "#problem = ElectronicStructureProblem(driver)\n",
    "experiment_with_ActiveSpace = ElectronicStructureProblem(driver, transformers=[transformer])\n",
    "second_q_ops = experiment_with_ActiveSpace.second_q_ops()\n",
    "main_op = second_q_ops[0]\n",
    "# particle_number = problem.molecule_data_transformed\n",
    "# num_particles = (particle_number.num_alpha, particle_number.num_beta)\n",
    "# num_spin_orbitals = particle_number.num_molecular_orbitals*2\n",
    "molecule = driver.run()\n",
    "backend = Aer.get_backend('qasm_simulator')\n",
    "simulation = QuantumInstance(backend=backend)\n",
    "mapper = BravyiKitaevMapper()\n",
    "converter = QubitConverter(mapper=mapper, two_qubit_reduction=True)\n",
    "qubit_op = converter.convert(main_op, num_particles=2)\n",
    "print(qubit_op.num_qubits)"
   ]
  },
  {
   "cell_type": "code",
   "execution_count": null,
   "metadata": {},
   "outputs": [],
   "source": [
    "experiment_with_ActiveSpace = ElectronicStructureProblem(driver, transformers=[transformer])\n",
    "backend = Aer.get_backend('qasm_simulator')\n",
    "simulation = QuantumInstance(backend=backend)"
   ]
  },
  {
   "cell_type": "code",
   "execution_count": null,
   "metadata": {},
   "outputs": [],
   "source": [
    "%%time\n",
    "# import logging\n",
    "# logging.basicConfig(level=logging.WARNING)\n",
    "# logging.getLogger('qiskit.algorithms.minimum_eigen_solvers.vqe').setLevel(logging.INFO)\n",
    "\n",
    "\n",
    "shots=1\n",
    "\n",
    "begin = time.time()\n",
    "\n",
    "VQE = VQEUCCFactory(simulation, optimizer=COBYLA(maxiter=shots))\n",
    "calculation = GroundStateEigensolver(qubit_conversion, VQE)\n",
    "result = calculation.solve(experiment_with_ActiveSpace)\n",
    "\n",
    "end = time.time()\n",
    "print(f\"Total runtime of the program is {end - begin}\")"
   ]
  },
  {
   "cell_type": "code",
   "execution_count": null,
   "metadata": {},
   "outputs": [],
   "source": [
    "import numpy as np\n",
    "print('Energy:', np.real(result.electronic_energies + result.nuclear_repulsion_energy)[0])"
   ]
  }
 ],
 "metadata": {
  "kernelspec": {
   "display_name": "Python 3 (ipykernel)",
   "language": "python",
   "name": "python3"
  },
  "language_info": {
   "codemirror_mode": {
    "name": "ipython",
    "version": 3
   },
   "file_extension": ".py",
   "mimetype": "text/x-python",
   "name": "python",
   "nbconvert_exporter": "python",
   "pygments_lexer": "ipython3",
   "version": "3.8.10"
  }
 },
 "nbformat": 4,
 "nbformat_minor": 4
}
