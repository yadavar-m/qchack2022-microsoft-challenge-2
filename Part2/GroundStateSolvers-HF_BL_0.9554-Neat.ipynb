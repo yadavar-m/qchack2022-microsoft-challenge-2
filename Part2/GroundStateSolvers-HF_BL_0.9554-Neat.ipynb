{
 "cells": [
  {
   "cell_type": "markdown",
   "id": "ea7f193c",
   "metadata": {},
   "source": [
    "### Ground state solvers"
   ]
  },
  {
   "cell_type": "code",
   "execution_count": 1,
   "id": "e0575c7f",
   "metadata": {},
   "outputs": [],
   "source": [
    "###### Import Libraries\n",
    "\n",
    "from qiskit import Aer\n",
    "from qiskit_nature.drivers import UnitsType, Molecule\n",
    "from qiskit_nature.drivers.second_quantization import (\n",
    "    ElectronicStructureDriverType,\n",
    "    ElectronicStructureMoleculeDriver,\n",
    ")\n",
    "from qiskit_nature.problems.second_quantization import ElectronicStructureProblem\n",
    "from qiskit_nature.converters.second_quantization import QubitConverter\n",
    "from qiskit_nature.mappers.second_quantization import JordanWignerMapper\n",
    "import time\n"
   ]
  },
  {
   "cell_type": "code",
   "execution_count": 2,
   "id": "8fce57ef",
   "metadata": {},
   "outputs": [
    {
     "name": "stdout",
     "output_type": "stream",
     "text": [
      "[['H', [0.0, 0.0, 0.0]], ['F', [0.0, 0.0, 0.9554]]]\n"
     ]
    }
   ],
   "source": [
    "###### Define molecule HF\n",
    "\n",
    "molecule = Molecule(\n",
    "    geometry=[[\"H\", [0.0, 0.0, 0.0]], [\"F\", [0.0, 0.0, 0.9554]]], charge=0, multiplicity=1\n",
    ")\n",
    "\n",
    "print(molecule.geometry)"
   ]
  },
  {
   "cell_type": "code",
   "execution_count": 3,
   "id": "3503815b",
   "metadata": {},
   "outputs": [
    {
     "name": "stdout",
     "output_type": "stream",
     "text": [
      "Fermionic Operator\n",
      "register length=12, number terms=630\n",
      "  (0.004795354445662637+0j) * ( +_0 +_1 -_2 -_5 )\n",
      "+ (-0.031316822326622196+0j) * ( +_0 -_1 +_2 -_5 )\n",
      "+ (0.026521467880959534+0j) * ( +_0 -_1 -_2 +_5 )\n",
      "+ (0.07545120634168136+0j) * ( +_0 -_1 +_6 -_ ...\n",
      "12\n",
      "(5, 5)\n"
     ]
    }
   ],
   "source": [
    "###### Define the electronic structure driver\n",
    "\n",
    "driver = ElectronicStructureMoleculeDriver(\n",
    "    molecule, basis=\"sto3g\", driver_type=ElectronicStructureDriverType.PYSCF,\n",
    ")\n",
    "\n",
    "# define the electronic structure problem as a function of the driver\n",
    "es_problem = ElectronicStructureProblem(driver) \n",
    "\n",
    "# build the second quantized Hamiltonian of the molecule\n",
    "second_q_op = es_problem.second_q_ops()\n",
    "\n",
    "\n",
    "# print the Hamiltonian, no. of spin orbitals or qubits, and the no. of paticles\n",
    "print(second_q_op[0]) \n",
    "print(es_problem.num_spin_orbitals) \n",
    "print(es_problem.num_particles)"
   ]
  },
  {
   "cell_type": "code",
   "execution_count": 4,
   "id": "bc358a90",
   "metadata": {},
   "outputs": [],
   "source": [
    "###### Map Hamiltonian to Qubits\n",
    "qubit_converter = QubitConverter(JordanWignerMapper()) "
   ]
  },
  {
   "cell_type": "markdown",
   "id": "8e506dab",
   "metadata": {},
   "source": [
    "### VQE solver"
   ]
  },
  {
   "cell_type": "code",
   "execution_count": 5,
   "id": "01e5b93d",
   "metadata": {},
   "outputs": [
    {
     "name": "stdout",
     "output_type": "stream",
     "text": [
      "CPU times: user 407 ms, sys: 51.8 ms, total: 459 ms\n",
      "Wall time: 460 ms\n"
     ]
    }
   ],
   "source": [
    "%%time\n",
    "from qiskit.providers.aer import StatevectorSimulator\n",
    "from qiskit import Aer\n",
    "from qiskit.utils import QuantumInstance\n",
    "from qiskit_nature.algorithms import VQEUCCFactory\n",
    "\n",
    "\n",
    "# Select the simulator to run the calculation\n",
    "quantum_instance = QuantumInstance(backend=Aer.get_backend(\"aer_simulator_statevector\"))\n",
    "\n",
    "# define the VQE simulator\n",
    "vqe_solver = VQEUCCFactory(quantum_instance)"
   ]
  },
  {
   "cell_type": "markdown",
   "id": "6b1745f7",
   "metadata": {},
   "source": [
    "### The calculation and results"
   ]
  },
  {
   "cell_type": "code",
   "execution_count": 6,
   "id": "5f65f1c0",
   "metadata": {},
   "outputs": [
    {
     "name": "stdout",
     "output_type": "stream",
     "text": [
      "=== GROUND STATE ENERGY ===\n",
      " \n",
      "* Electronic ground state energy (Hartree): -103.586665454064\n",
      "  - computed part:      -103.586665454064\n",
      "~ Nuclear repulsion energy (Hartree): 4.984922439062\n",
      "> Total ground state energy (Hartree): -98.601743015002\n",
      " \n",
      "=== MEASURED OBSERVABLES ===\n",
      " \n",
      "  0:  # Particles: 10.000 S: 0.000 S^2: 0.000 M: -0.000\n",
      " \n",
      "=== DIPOLE MOMENTS ===\n",
      " \n",
      "~ Nuclear dipole moment (a.u.): [0.0  0.0  16.24899905]\n",
      " \n",
      "  0: \n",
      "  * Electronic dipole moment (a.u.): [0.00000011  0.00000031  16.68180831]\n",
      "    - computed part:      [0.00000011  0.00000031  16.68180831]\n",
      "  > Dipole moment (a.u.): [-0.00000011  -0.00000031  -0.43280926]  Total: 0.43280926\n",
      "                 (debye): [-0.00000027  -0.00000078  -1.1000913]  Total: 1.1000913\n",
      " \n",
      "CPU times: user 4min 49s, sys: 1min 26s, total: 6min 16s\n",
      "Wall time: 4min 10s\n"
     ]
    }
   ],
   "source": [
    "%%time\n",
    "from qiskit_nature.algorithms import GroundStateEigensolver\n",
    "\n",
    "calc = GroundStateEigensolver(qubit_converter, vqe_solver) # do the calculation\n",
    "res = calc.solve(es_problem) # save the result\n",
    "\n",
    "print(res) # print the result"
   ]
  },
  {
   "cell_type": "markdown",
   "id": "578a8639",
   "metadata": {},
   "source": [
    "### Just keeping"
   ]
  },
  {
   "cell_type": "code",
   "execution_count": 7,
   "id": "2296cc34",
   "metadata": {},
   "outputs": [
    {
     "data": {
      "text/plain": [
       "4.984922439062173"
      ]
     },
     "execution_count": 7,
     "metadata": {},
     "output_type": "execute_result"
    }
   ],
   "source": [
    "res.nuclear_repulsion_energy"
   ]
  },
  {
   "cell_type": "code",
   "execution_count": 8,
   "id": "2ca14f69",
   "metadata": {},
   "outputs": [
    {
     "data": {
      "text/plain": [
       "array([-103.58666545])"
      ]
     },
     "execution_count": 8,
     "metadata": {},
     "output_type": "execute_result"
    }
   ],
   "source": [
    "res.electronic_energies"
   ]
  },
  {
   "cell_type": "code",
   "execution_count": 9,
   "id": "d6511b23",
   "metadata": {},
   "outputs": [
    {
     "data": {
      "text/plain": [
       "array([-98.60174302])"
      ]
     },
     "execution_count": 9,
     "metadata": {},
     "output_type": "execute_result"
    }
   ],
   "source": [
    "GSE = res.nuclear_repulsion_energy + res.electronic_energies \n",
    "GSE"
   ]
  },
  {
   "cell_type": "code",
   "execution_count": 10,
   "id": "51b95eb2",
   "metadata": {},
   "outputs": [
    {
     "name": "stdout",
     "output_type": "stream",
     "text": [
      "[(1.07174545586e-07, 3.06839972254e-07, 16.681808309641962)]\n"
     ]
    }
   ],
   "source": [
    "print(res.computed_dipole_moment)"
   ]
  },
  {
   "cell_type": "code",
   "execution_count": 11,
   "id": "60429d5a",
   "metadata": {},
   "outputs": [
    {
     "data": {
      "text/plain": [
       "[array([ 2.61145619e-50+3.98202021e-51j, -8.09894474e-37-2.52727680e-37j,\n",
       "        -5.65697958e-38-1.62394322e-38j, ...,\n",
       "         1.24181404e-16+1.79138435e-16j, -6.03867360e-18-5.96539782e-17j,\n",
       "         7.40502433e-17+5.00248193e-16j])]"
      ]
     },
     "execution_count": 11,
     "metadata": {},
     "output_type": "execute_result"
    }
   ],
   "source": [
    "res.eigenstates"
   ]
  },
  {
   "cell_type": "code",
   "execution_count": 12,
   "id": "3ed3d679",
   "metadata": {},
   "outputs": [
    {
     "data": {
      "text/plain": [
       "[9.999999999999904]"
      ]
     },
     "execution_count": 12,
     "metadata": {},
     "output_type": "execute_result"
    }
   ],
   "source": [
    "res.num_particles"
   ]
  },
  {
   "cell_type": "code",
   "execution_count": 13,
   "id": "8f0c8381",
   "metadata": {},
   "outputs": [
    {
     "name": "stdout",
     "output_type": "stream",
     "text": [
      "{   'aux_operator_eigenvalues': [   (9.999999999999904, 0.0),\n",
      "                                    (5.92926292e-09, 0.0),\n",
      "                                    (-0.0, 0.0),\n",
      "                                    (1.07174545586e-07, 0.0),\n",
      "                                    (3.06839972254e-07, 0.0),\n",
      "                                    (16.681808309641962, 0.0)],\n",
      "    'cost_function_evals': 449,\n",
      "    'eigenstate': array([ 2.61145619e-50+3.98202021e-51j, -8.09894474e-37-2.52727680e-37j,\n",
      "       -5.65697958e-38-1.62394322e-38j, ...,\n",
      "        1.24181404e-16+1.79138435e-16j, -6.03867360e-18-5.96539782e-17j,\n",
      "        7.40502433e-17+5.00248193e-16j]),\n",
      "    'eigenvalue': (-103.58666545406436+0j),\n",
      "    'optimal_parameters': {   ParameterVectorElement(t[0]): -9.582390494134314e-05,\n",
      "                              ParameterVectorElement(t[1]): 0.0016693338389576905,\n",
      "                              ParameterVectorElement(t[2]): 0.012183460404235185,\n",
      "                              ParameterVectorElement(t[3]): -2.3186728762734013e-06,\n",
      "                              ParameterVectorElement(t[4]): 1.041828025856124e-06,\n",
      "                              ParameterVectorElement(t[5]): -7.384462830232672e-05,\n",
      "                              ParameterVectorElement(t[6]): 0.0016710178321359451,\n",
      "                              ParameterVectorElement(t[7]): 0.012191260089494697,\n",
      "                              ParameterVectorElement(t[8]): 2.4603941826897547e-06,\n",
      "                              ParameterVectorElement(t[9]): 3.389919001132502e-06,\n",
      "                              ParameterVectorElement(t[10]): 0.00038169121929996087,\n",
      "                              ParameterVectorElement(t[11]): 0.0004452213842059144,\n",
      "                              ParameterVectorElement(t[12]): 0.00011149259886613387,\n",
      "                              ParameterVectorElement(t[13]): 7.32154033640085e-06,\n",
      "                              ParameterVectorElement(t[14]): -8.590945893445171e-06,\n",
      "                              ParameterVectorElement(t[15]): 0.0004812589159483143,\n",
      "                              ParameterVectorElement(t[16]): 0.024455363070236113,\n",
      "                              ParameterVectorElement(t[17]): -0.02987595106838031,\n",
      "                              ParameterVectorElement(t[18]): -4.964428206380818e-06,\n",
      "                              ParameterVectorElement(t[19]): 4.311733962097431e-06,\n",
      "                              ParameterVectorElement(t[20]): 5.8146791258449606e-05,\n",
      "                              ParameterVectorElement(t[21]): -0.029897422462060418,\n",
      "                              ParameterVectorElement(t[22]): 0.12188837789552932,\n",
      "                              ParameterVectorElement(t[23]): -2.7513035543847776e-06,\n",
      "                              ParameterVectorElement(t[24]): 6.6922969366907445e-06,\n",
      "                              ParameterVectorElement(t[25]): -2.372277063729733e-05,\n",
      "                              ParameterVectorElement(t[26]): -2.9983419238034246e-06,\n",
      "                              ParameterVectorElement(t[27]): -6.585908886537134e-06,\n",
      "                              ParameterVectorElement(t[28]): 0.01757899875863524,\n",
      "                              ParameterVectorElement(t[29]): 2.2156722966337607e-06,\n",
      "                              ParameterVectorElement(t[30]): -2.026002318825922e-05,\n",
      "                              ParameterVectorElement(t[31]): 8.0086290721131e-07,\n",
      "                              ParameterVectorElement(t[32]): 7.69511936600179e-06,\n",
      "                              ParameterVectorElement(t[33]): 1.6677057854607125e-06,\n",
      "                              ParameterVectorElement(t[34]): 0.017584407827826925},\n",
      "    'optimal_point': array([-9.58239049e-05,  1.66933384e-03,  1.21834604e-02, -2.31867288e-06,\n",
      "        1.04182803e-06, -7.38446283e-05,  1.67101783e-03,  1.21912601e-02,\n",
      "        2.46039418e-06,  3.38991900e-06,  3.81691219e-04,  4.45221384e-04,\n",
      "        1.11492599e-04,  7.32154034e-06, -8.59094589e-06,  4.81258916e-04,\n",
      "        2.44553631e-02, -2.98759511e-02, -4.96442821e-06,  4.31173396e-06,\n",
      "        5.81467913e-05, -2.98974225e-02,  1.21888378e-01, -2.75130355e-06,\n",
      "        6.69229694e-06, -2.37227706e-05, -2.99834192e-06, -6.58590889e-06,\n",
      "        1.75789988e-02,  2.21567230e-06, -2.02600232e-05,  8.00862907e-07,\n",
      "        7.69511937e-06,  1.66770579e-06,  1.75844078e-02]),\n",
      "    'optimal_value': -103.58666545406436,\n",
      "    'optimizer_evals': None,\n",
      "    'optimizer_time': 210.20954203605652}\n"
     ]
    }
   ],
   "source": [
    "print(res.raw_result)"
   ]
  }
 ],
 "metadata": {
  "kernelspec": {
   "display_name": "Python 3 (ipykernel)",
   "language": "python",
   "name": "python3"
  },
  "language_info": {
   "codemirror_mode": {
    "name": "ipython",
    "version": 3
   },
   "file_extension": ".py",
   "mimetype": "text/x-python",
   "name": "python",
   "nbconvert_exporter": "python",
   "pygments_lexer": "ipython3",
   "version": "3.8.10"
  }
 },
 "nbformat": 4,
 "nbformat_minor": 5
}
